{
 "cells": [
  {
   "cell_type": "code",
   "execution_count": 5,
   "metadata": {},
   "outputs": [],
   "source": [
    "import pandas as pd\n",
    "import numpy as np\n",
    "import os\n",
    "import time\n",
    "from PIL import Image"
   ]
  },
  {
   "cell_type": "markdown",
   "metadata": {},
   "source": [
    "###### Nome do arquivo de saída"
   ]
  },
  {
   "cell_type": "code",
   "execution_count": 13,
   "metadata": {},
   "outputs": [],
   "source": [
    "#Nome do arquivo de saída\n",
    "nome_output_csv = 'csv_pixel.csv'"
   ]
  },
  {
   "cell_type": "markdown",
   "metadata": {},
   "source": [
    "###### Diretório onde estão as imagens"
   ]
  },
  {
   "cell_type": "code",
   "execution_count": 14,
   "metadata": {},
   "outputs": [],
   "source": [
    "diretorio = 'imagens/'"
   ]
  },
  {
   "cell_type": "markdown",
   "metadata": {},
   "source": [
    "###### -------"
   ]
  },
  {
   "cell_type": "code",
   "execution_count": 15,
   "metadata": {},
   "outputs": [],
   "source": [
    "'''\n",
    "Escreve primeira linha com nomes das colunas. \n",
    "Primeira coluna: Id (nome do png)\n",
    "Segunda coluna: Label (dígito manuscrito na figura)\n",
    "..Colunas restantes pixels.\n",
    "'''\n",
    "with open(nome_output_csv, 'a+') as file:\n",
    "    file.write('Id' + ',' + 'Label' + ',')\n",
    "    for i in range(784):\n",
    "        file.write('pixel ' + str(i) + ',')\n",
    "    file.write('\\n')"
   ]
  },
  {
   "cell_type": "code",
   "execution_count": 16,
   "metadata": {},
   "outputs": [
    {
     "name": "stdout",
     "output_type": "stream",
     "text": [
      "Tempo de execução (min): 0.0019976218541463216\n"
     ]
    }
   ],
   "source": [
    "inicio = time.time()\n",
    "\n",
    "lista_dir = os.listdir(diretorio)\n",
    "for i in lista_dir:\n",
    "    lista_imagens = os.listdir(diretorio + i)\n",
    "    i = int(i)\n",
    "    for j in lista_imagens:\n",
    "        pixels_list = str(j).strip('.png') + ',' + str(i) + ','\n",
    "        with open('csv_pixel.csv', 'a+') as file:\n",
    "            img = Image.open(diretorio + lista_dir[i] + '/' + j)\n",
    "            img_converted = np.array(img)\n",
    "            row =  img_converted.ravel()\n",
    "            rows_list = row.tolist()\n",
    "            for k in rows_list:\n",
    "                pixels = str(k) + ','\n",
    "                pixels_list += pixels\n",
    "            file.write(pixels_list + '\\n')\n",
    "\n",
    "print('Tempo de execução (min):', (time.time() - inicio) / 60)"
   ]
  }
 ],
 "metadata": {
  "kernelspec": {
   "display_name": "Python 3",
   "language": "python",
   "name": "python3"
  },
  "language_info": {
   "codemirror_mode": {
    "name": "ipython",
    "version": 3
   },
   "file_extension": ".py",
   "mimetype": "text/x-python",
   "name": "python",
   "nbconvert_exporter": "python",
   "pygments_lexer": "ipython3",
   "version": "3.7.1"
  }
 },
 "nbformat": 4,
 "nbformat_minor": 4
}
